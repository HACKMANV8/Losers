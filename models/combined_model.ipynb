{
 "cells": [
  {
   "cell_type": "code",
   "execution_count": 6,
   "id": "0e029961-c26c-4fcc-8078-e5cd778f6ea3",
   "metadata": {},
   "outputs": [
    {
     "name": "stdout",
     "output_type": "stream",
     "text": [
      "Requirement already satisfied: xgboost in c:\\users\\samir sinha\\anaconda3\\lib\\site-packages (1.7.4)\n",
      "Requirement already satisfied: numpy in c:\\users\\samir sinha\\anaconda3\\lib\\site-packages (from xgboost) (2.0.2)\n",
      "Requirement already satisfied: scipy in c:\\users\\samir sinha\\anaconda3\\lib\\site-packages (from xgboost) (1.16.2)\n"
     ]
    },
    {
     "name": "stderr",
     "output_type": "stream",
     "text": [
      "\n",
      "[notice] A new release of pip is available: 25.2 -> 25.3\n",
      "[notice] To update, run: python.exe -m pip install --upgrade pip\n"
     ]
    }
   ],
   "source": [
    "!pip install xgboost\n"
   ]
  },
  {
   "cell_type": "code",
   "execution_count": 7,
   "id": "126fe2bc-ed3e-425e-94a4-4d450b30c0fa",
   "metadata": {},
   "outputs": [],
   "source": [
    "import pandas as pd\n",
    "import seaborn as sns\n",
    "import xgboost as xgb"
   ]
  },
  {
   "cell_type": "code",
   "execution_count": 9,
   "id": "b67c8bc2-ca18-4c4d-b685-fb54adb81874",
   "metadata": {},
   "outputs": [],
   "source": [
    "df = pd.read_csv(\"train.csv\")"
   ]
  },
  {
   "cell_type": "code",
   "execution_count": 19,
   "id": "e25847e2-5757-41b2-adda-76c49f24fd1a",
   "metadata": {},
   "outputs": [
    {
     "data": {
      "text/plain": [
       "array([\"[['deadargelim', 'reassociate', 'sccp', 'mem2reg', 'argpromotion', 'sccp', 'early-cse', 'inline', 'loop-unroll-and-jam'], ['break-crit-edges', 'memcpyopt', 'loop-rotate'], ['always-inline', 'slp-vectorizer', 'argpromotion', 'simplifycfg', 'sroa', 'argpromotion', 'loop-simplify', 'loop-simplify', 'lowerswitch'], ['instcombine', 'loop-rotate', 'licm'], ['globalopt', 'loop-vectorize', 'always-inline', 'slp-vectorizer', 'mem2reg', 'simplifycfg', 'sccp', 'globaldce', 'globaldce', 'deadargelim', 'correlated-propagation', 'dce', 'slp-vectorizer'], ['memcpyopt', 'licm', 'loop-unroll', 'sccp', 'dce', 'simplifycfg', 'loop-rotate', 'instcombine', 'indvars'], ['deadargelim', 'indvars', 'loop-rotate', 'early-cse', 'instcombine', 'sroa', 'licm', 'simplifycfg', 'sroa'], ['dce', 'lowerswitch', 'loop-unroll'], ['slp-vectorizer', 'sroa', 'slp-vectorizer', 'mem2reg', 'slp-vectorizer', 'loop-unroll', 'tailcallelim', 'loop-reduce', 'loop-deletion', 'memcpyopt', 'dce'], ['lowerswitch', 'break-crit-edges', 'slp-vectorizer', 'slp-vectorizer', 'memcpyopt'], ['simplifycfg', 'dce', 'dce', 'gvn', 'reassociate', 'correlated-propagation', 'reassociate', 'gvn', 'lowerswitch'], ['loop-simplify', 'dce', 'dce', 'simplifycfg', 'gvn', 'licm', 'early-cse', 'loop-simplify', 'loop-unroll'], ['loop-simplify', 'instcombine', 'mem2reg', 'adce', 'loop-unroll', 'loop-reduce', 'licm', 'mem2reg', 'simplifycfg'], ['jump-threading', 'break-crit-edges', 'licm', 'loop-deletion', 'correlated-propagation'], ['inline', 'indvars', 'indvars', 'mergereturn', 'argpromotion', 'slp-vectorizer', 'slp-vectorizer'], ['globaldce', 'lowerswitch', 'globaldce', 'simplifycfg', 'slp-vectorizer', 'slp-vectorizer', 'correlated-propagation', 'licm', 'dce', 'adce', 'loop-simplify'], ['mem2reg', 'adce', 'simplifycfg'], ['sccp', 'licm', 'indvars', 'gvn', 'dce', 'reassociate', 'adce', 'jump-threading', 'loop-rotate'], ['globalopt', 'slp-vectorizer', 'loop-unroll-and-jam', 'globaldce', 'partial-inliner', 'sroa', 'loop-reduce', 'argpromotion', 'sroa'], ['deadargelim', 'licm', 'early-cse', 'dse', 'mem2reg', 'deadargelim', 'lowerswitch', 'gvn', 'dce', 'mem2reg', 'loop-unroll-and-jam', 'loop-unroll'], ['break-crit-edges', 'loop-deletion', 'licm', 'licm', 'memcpyopt'], ['partial-inliner', 'globaldce', 'globaldce', 'partial-inliner', 'dse', 'sroa', 'reassociate', 'loop-deletion', 'early-cse', 'memcpyopt', 'sroa'], ['partial-inliner', 'memcpyopt', 'tailcallelim'], ['jump-threading', 'reassociate', 'dce', 'loop-deletion', 'simplifycfg', 'mem2reg', 'gvn', 'indvars', 'instcombine'], ['always-inline', 'slp-vectorizer', 'simplifycfg', 'sroa', 'lowerswitch', 'loop-unroll-and-jam', 'memcpyopt', 'gvn', 'deadargelim'], ['reassociate', 'adce', 'early-cse', 'adce', 'mergereturn', 'mergereturn', 'gvn', 'instcombine', 'loop-unroll-and-jam', 'reassociate', 'instcombine', 'slp-vectorizer', 'loop-simplify', 'dce', 'dse'], ['ipsccp', 'loop-rotate', 'loop-simplify', 'mem2reg', 'instcombine', 'licm', 'tailcallelim', 'simplifycfg', 'indvars'], ['dse', 'correlated-propagation', 'correlated-propagation', 'loop-vectorize', 'sroa', 'loop-simplify', 'dce', 'dse', 'correlated-propagation', 'simplifycfg', 'loop-unroll-and-jam', 'loop-simplify', 'loop-rotate'], ['reassociate', 'indvars', 'mergereturn', 'gvn', 'early-cse', 'licm', 'dce', 'break-crit-edges', 'loop-rotate'], ['argpromotion', 'dce', 'correlated-propagation', 'loop-reduce', 'sccp', 'correlated-propagation'], ['reassociate', 'mem2reg', 'simplifycfg', 'licm', 'loop-reduce', 'instcombine', 'loop-unroll', 'loop-simplify', 'instsimplify'], ['globaldce', 'loop-unroll', 'gvn', 'loop-rotate', 'simplifycfg', 'globaldce', 'dce', 'indvars', 'licm'], ['globalopt', 'argpromotion', 'slp-vectorizer', 'lowerswitch', 'slp-vectorizer', 'loop-vectorize', 'memcpyopt', 'mergereturn', 'loop-reduce', 'mem2reg', 'slp-vectorizer', 'ipsccp', 'globalopt'], ['mem2reg', 'instcombine', 'simplifycfg', 'indvars', 'indvars', 'licm', 'loop-rotate', 'loop-rotate', 'jump-threading'], ['always-inline', 'early-cse', 'globaldce', 'partial-inliner', 'slp-vectorizer', 'memcpyopt', 'simplifycfg', 'jump-threading', 'sroa', 'slp-vectorizer', 'inline', 'inline', 'adce', 'mem2reg', 'indvars'], ['lowerswitch', 'loop-vectorize', 'mem2reg', 'sroa'], ['always-inline', 'memcpyopt', 'simplifycfg'], ['loop-simplify', 'loop-simplify', 'simplifycfg', 'early-cse', 'instcombine', 'tailcallelim', 'mem2reg', 'sroa', 'instcombine'], ['globaldce', 'always-inline', 'instsimplify', 'partial-inliner', 'inline', 'sccp']]\"],\n",
       "      dtype=object)"
      ]
     },
     "execution_count": 19,
     "metadata": {},
     "output_type": "execute_result"
    }
   ],
   "source": []
  },
  {
   "cell_type": "code",
   "execution_count": 22,
   "id": "3eea37c8-e83d-4539-acd6-146a4349eb31",
   "metadata": {},
   "outputs": [
    {
     "name": "stdout",
     "output_type": "stream",
     "text": [
      "Total unique passes: 37\n",
      "{'loop-unroll-and-jam', 'slp-vectorizer', 'sroa', 'early-cse', 'loop-rotate', 'loop-deletion', 'tailcallelim', 'globalopt', 'loop-simplify', 'lowerswitch', 'globaldce', 'mem2reg', 'simplifycfg', 'jump-threading', 'mergereturn', 'dce', 'gvn', 'argpromotion', 'adce', 'inline', 'sccp', 'reassociate', 'always-inline', 'instsimplify', 'memcpyopt', 'loop-unroll', 'indvars', 'deadargelim', 'correlated-propagation', 'dse', 'loop-vectorize', 'instcombine', 'loop-reduce', 'ipsccp', 'break-crit-edges', 'licm', 'partial-inliner'}\n"
     ]
    }
   ],
   "source": [
    "import ast\n",
    "\n",
    "# Step 1: Convert stringified lists to real lists (if not already)\n",
    "df['sequences'] = df['sequences'].apply(lambda x: ast.literal_eval(x) if isinstance(x, str) else x)\n",
    "\n",
    "# Step 2: Extract all unique passes\n",
    "unique_passes = set()\n",
    "\n",
    "for seq_list in df['sequences']:\n",
    "    for seq in seq_list:       # Each seq is a list of passes\n",
    "        for p in seq:\n",
    "            unique_passes.add(p)\n",
    "\n",
    "print(\"Total unique passes:\", len(unique_passes))\n",
    "print(unique_passes)\n"
   ]
  },
  {
   "cell_type": "code",
   "execution_count": null,
   "id": "4aeb087e-70ba-470e-9997-8a885801be76",
   "metadata": {},
   "outputs": [],
   "source": []
  }
 ],
 "metadata": {
  "kernelspec": {
   "display_name": "Python 3 (ipykernel)",
   "language": "python",
   "name": "python3"
  },
  "language_info": {
   "codemirror_mode": {
    "name": "ipython",
    "version": 3
   },
   "file_extension": ".py",
   "mimetype": "text/x-python",
   "name": "python",
   "nbconvert_exporter": "python",
   "pygments_lexer": "ipython3",
   "version": "3.12.7"
  }
 },
 "nbformat": 4,
 "nbformat_minor": 5
}
